{
 "cells": [
  {
   "cell_type": "code",
   "execution_count": 1,
   "id": "bbe67d9b-4bd3-4ef8-a060-a020e51c386c",
   "metadata": {},
   "outputs": [],
   "source": [
    "import requests\n",
    "import numpy as np"
   ]
  },
  {
   "cell_type": "code",
   "execution_count": 2,
   "id": "4c8ee443-7936-4792-89c8-2fa5d8c328c3",
   "metadata": {},
   "outputs": [],
   "source": [
    "def getAppList():    \n",
    "    \"\"\"\n",
    "    Collects all the app ids from Steam Store.\n",
    "    App collection includes games, dlc, music and videos.\n",
    "\n",
    "\n",
    "    Returns:\n",
    "        dict: Apps' ids and names.\n",
    "    \"\"\"    \n",
    "    url = 'https://api.steampowered.com/ISteamApps/GetAppList/v2/'\n",
    "    response = requests.get(url)\n",
    "    app_dict = response.json()\n",
    "    return app_dict\n"
   ]
  },
  {
   "cell_type": "code",
   "execution_count": 3,
   "id": "0d85ee02-cd22-496d-8776-ac9bf4b5515f",
   "metadata": {},
   "outputs": [
    {
     "name": "stdout",
     "output_type": "stream",
     "text": [
      "NumPy array of app ids has been saved to 'app_ids.csv'.\n"
     ]
    }
   ],
   "source": [
    "# Получение словаря с приложениями, формат {id: name}\n",
    "app_dict = getAppList()\n",
    "\n",
    "# Пустой массив для будущих id приложений\n",
    "app_ids =  np.empty(len(app_dict['applist']['apps']), dtype=int)\n",
    "\n",
    "# Заполнение массива полученными id приложений\n",
    "for i, app in enumerate(app_dict['applist']['apps']):\n",
    "    if app['appid'] > 0:\n",
    "        app_ids[i] = app['appid']\n",
    "\n",
    "np.savetxt('app_ids.csv', app_ids, delimiter=',', fmt='%d')\n",
    "\n",
    "print(\"NumPy array of apps' ids has been saved to 'app_ids.csv'.\")"
   ]
  },
  {
   "cell_type": "code",
   "execution_count": 4,
   "id": "8ba9f412-99c9-4b6c-a933-f076ec528d5c",
   "metadata": {},
   "outputs": [
    {
     "data": {
      "text/plain": [
       "(226616,)"
      ]
     },
     "execution_count": 4,
     "metadata": {},
     "output_type": "execute_result"
    }
   ],
   "source": [
    "app_ids.shape"
   ]
  },
  {
   "cell_type": "code",
   "execution_count": 6,
   "id": "77ec1e40-bbd2-4166-8aa1-337ec40fd600",
   "metadata": {},
   "outputs": [
    {
     "data": {
      "text/plain": [
       "array([1418860, 1418870, 1418900, ..., 3356110, 2009350, 2361710])"
      ]
     },
     "execution_count": 6,
     "metadata": {},
     "output_type": "execute_result"
    }
   ],
   "source": [
    "app_ids"
   ]
  }
 ],
 "metadata": {
  "kernelspec": {
   "display_name": "Python 3 (ipykernel)",
   "language": "python",
   "name": "python3"
  },
  "language_info": {
   "codemirror_mode": {
    "name": "ipython",
    "version": 3
   },
   "file_extension": ".py",
   "mimetype": "text/x-python",
   "name": "python",
   "nbconvert_exporter": "python",
   "pygments_lexer": "ipython3",
   "version": "3.12.3"
  }
 },
 "nbformat": 4,
 "nbformat_minor": 5
}
